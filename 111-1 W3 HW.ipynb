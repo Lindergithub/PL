{
 "cells": [
  {
   "cell_type": "code",
   "execution_count": 18,
   "id": "9a28973a",
   "metadata": {},
   "outputs": [],
   "source": [
    "import pandas as pd\n",
    "web = pd.read_csv(\"Web Repo.csv\")\n",
    "pl = pd.read_csv(\"Pl Repo.csv\")"
   ]
  },
  {
   "cell_type": "code",
   "execution_count": 20,
   "id": "7b0f3847",
   "metadata": {
    "scrolled": true
   },
   "outputs": [
    {
     "data": {
      "text/html": [
       "<div>\n",
       "<style scoped>\n",
       "    .dataframe tbody tr th:only-of-type {\n",
       "        vertical-align: middle;\n",
       "    }\n",
       "\n",
       "    .dataframe tbody tr th {\n",
       "        vertical-align: top;\n",
       "    }\n",
       "\n",
       "    .dataframe thead th {\n",
       "        text-align: right;\n",
       "    }\n",
       "</style>\n",
       "<table border=\"1\" class=\"dataframe\">\n",
       "  <thead>\n",
       "    <tr style=\"text-align: right;\">\n",
       "      <th></th>\n",
       "      <th>時間戳記</th>\n",
       "      <th>電子郵件地址</th>\n",
       "      <th>姓名</th>\n",
       "      <th>學號</th>\n",
       "      <th>GitHub PL Repo. Link</th>\n",
       "    </tr>\n",
       "  </thead>\n",
       "  <tbody>\n",
       "    <tr>\n",
       "      <th>44</th>\n",
       "      <td>2022/9/9 下午 2:07:00</td>\n",
       "      <td>1234567si2k@gmail.com</td>\n",
       "      <td>邱達儒</td>\n",
       "      <td>無</td>\n",
       "      <td>https://github.com/QiuDaru/PL</td>\n",
       "    </tr>\n",
       "    <tr>\n",
       "      <th>45</th>\n",
       "      <td>2022/9/17 下午 8:52:05</td>\n",
       "      <td>cassietien0224@gmail.com</td>\n",
       "      <td>田雨禾</td>\n",
       "      <td>40923213L</td>\n",
       "      <td>https://github.com/YU-HE-TIEN/PL</td>\n",
       "    </tr>\n",
       "    <tr>\n",
       "      <th>46</th>\n",
       "      <td>2022/9/19 下午 10:05:48</td>\n",
       "      <td>weiweihnug@gmail.com</td>\n",
       "      <td>洪芷葳</td>\n",
       "      <td>41071205H</td>\n",
       "      <td>https://github.com/WeiweiHung/PL</td>\n",
       "    </tr>\n",
       "    <tr>\n",
       "      <th>47</th>\n",
       "      <td>2022/9/22 上午 12:09:47</td>\n",
       "      <td>jenny.lee.91518@gmail.com</td>\n",
       "      <td>李招蓁</td>\n",
       "      <td>40971203H</td>\n",
       "      <td>https://github.com/janliex/PL</td>\n",
       "    </tr>\n",
       "    <tr>\n",
       "      <th>48</th>\n",
       "      <td>2022/9/22 上午 10:11:01</td>\n",
       "      <td>analysis910207@gmail.com</td>\n",
       "      <td>楊宇倫</td>\n",
       "      <td>40971125H</td>\n",
       "      <td>https://github.com/yulun910207/PL.git</td>\n",
       "    </tr>\n",
       "  </tbody>\n",
       "</table>\n",
       "</div>"
      ],
      "text/plain": [
       "                     時間戳記                     電子郵件地址   姓名         學號  \\\n",
       "44    2022/9/9 下午 2:07:00      1234567si2k@gmail.com  邱達儒          無   \n",
       "45   2022/9/17 下午 8:52:05   cassietien0224@gmail.com  田雨禾  40923213L   \n",
       "46  2022/9/19 下午 10:05:48       weiweihnug@gmail.com  洪芷葳  41071205H   \n",
       "47  2022/9/22 上午 12:09:47  jenny.lee.91518@gmail.com  李招蓁  40971203H   \n",
       "48  2022/9/22 上午 10:11:01   analysis910207@gmail.com  楊宇倫  40971125H   \n",
       "\n",
       "                     GitHub PL Repo. Link  \n",
       "44          https://github.com/QiuDaru/PL  \n",
       "45       https://github.com/YU-HE-TIEN/PL  \n",
       "46       https://github.com/WeiweiHung/PL  \n",
       "47          https://github.com/janliex/PL  \n",
       "48  https://github.com/yulun910207/PL.git  "
      ]
     },
     "execution_count": 20,
     "metadata": {},
     "output_type": "execute_result"
    }
   ],
   "source": [
    "pl.tail()\n"
   ]
  },
  {
   "cell_type": "code",
   "execution_count": 21,
   "id": "692024b2",
   "metadata": {},
   "outputs": [
    {
     "data": {
      "text/html": [
       "<div>\n",
       "<style scoped>\n",
       "    .dataframe tbody tr th:only-of-type {\n",
       "        vertical-align: middle;\n",
       "    }\n",
       "\n",
       "    .dataframe tbody tr th {\n",
       "        vertical-align: top;\n",
       "    }\n",
       "\n",
       "    .dataframe thead th {\n",
       "        text-align: right;\n",
       "    }\n",
       "</style>\n",
       "<table border=\"1\" class=\"dataframe\">\n",
       "  <thead>\n",
       "    <tr style=\"text-align: right;\">\n",
       "      <th></th>\n",
       "      <th>時間戳記</th>\n",
       "      <th>電子郵件地址</th>\n",
       "      <th>姓名</th>\n",
       "      <th>學號</th>\n",
       "      <th>GitHub PL Repo. Link</th>\n",
       "    </tr>\n",
       "  </thead>\n",
       "  <tbody>\n",
       "    <tr>\n",
       "      <th>28</th>\n",
       "      <td>2022/9/19 上午 11:02:03</td>\n",
       "      <td>patrick.celee@gmai.com</td>\n",
       "      <td>李承恩</td>\n",
       "      <td>41071230H</td>\n",
       "      <td>https://github.com/patty111/web</td>\n",
       "    </tr>\n",
       "    <tr>\n",
       "      <th>29</th>\n",
       "      <td>2022/9/19 下午 7:48:22</td>\n",
       "      <td>41071116h@gapps.ntnu.edu.tw</td>\n",
       "      <td>陳翰駿</td>\n",
       "      <td>41071116H</td>\n",
       "      <td>https://github.com/junnn1219/Web</td>\n",
       "    </tr>\n",
       "    <tr>\n",
       "      <th>30</th>\n",
       "      <td>2022/9/19 下午 9:53:49</td>\n",
       "      <td>weiweihnug@gmail.com</td>\n",
       "      <td>洪芷葳</td>\n",
       "      <td>41071205H</td>\n",
       "      <td>https://github.com/WeiweiHung/Web</td>\n",
       "    </tr>\n",
       "    <tr>\n",
       "      <th>31</th>\n",
       "      <td>2022/9/19 下午 11:23:02</td>\n",
       "      <td>41071207h@gapps.ntnu.edu.tw</td>\n",
       "      <td>葉芷伃</td>\n",
       "      <td>4107207H</td>\n",
       "      <td>https://github.com/Una-Yeh/Web</td>\n",
       "    </tr>\n",
       "    <tr>\n",
       "      <th>32</th>\n",
       "      <td>2022/9/20 上午 1:31:31</td>\n",
       "      <td>41071229h@gapps.ntnu.edu.tw</td>\n",
       "      <td>魏士凱</td>\n",
       "      <td>41071229H</td>\n",
       "      <td>https://github.com/ShihKaiWei/Web</td>\n",
       "    </tr>\n",
       "  </tbody>\n",
       "</table>\n",
       "</div>"
      ],
      "text/plain": [
       "                     時間戳記                       電子郵件地址   姓名         學號  \\\n",
       "28  2022/9/19 上午 11:02:03       patrick.celee@gmai.com  李承恩  41071230H   \n",
       "29   2022/9/19 下午 7:48:22  41071116h@gapps.ntnu.edu.tw  陳翰駿  41071116H   \n",
       "30   2022/9/19 下午 9:53:49         weiweihnug@gmail.com  洪芷葳  41071205H   \n",
       "31  2022/9/19 下午 11:23:02  41071207h@gapps.ntnu.edu.tw  葉芷伃   4107207H   \n",
       "32   2022/9/20 上午 1:31:31  41071229h@gapps.ntnu.edu.tw  魏士凱  41071229H   \n",
       "\n",
       "                 GitHub PL Repo. Link  \n",
       "28    https://github.com/patty111/web  \n",
       "29   https://github.com/junnn1219/Web  \n",
       "30  https://github.com/WeiweiHung/Web  \n",
       "31     https://github.com/Una-Yeh/Web  \n",
       "32  https://github.com/ShihKaiWei/Web  "
      ]
     },
     "execution_count": 21,
     "metadata": {},
     "output_type": "execute_result"
    }
   ],
   "source": [
    "web.tail()"
   ]
  },
  {
   "cell_type": "code",
   "execution_count": 24,
   "id": "c73e699b",
   "metadata": {},
   "outputs": [
    {
     "data": {
      "text/html": [
       "<div>\n",
       "<style scoped>\n",
       "    .dataframe tbody tr th:only-of-type {\n",
       "        vertical-align: middle;\n",
       "    }\n",
       "\n",
       "    .dataframe tbody tr th {\n",
       "        vertical-align: top;\n",
       "    }\n",
       "\n",
       "    .dataframe thead th {\n",
       "        text-align: right;\n",
       "    }\n",
       "</style>\n",
       "<table border=\"1\" class=\"dataframe\">\n",
       "  <thead>\n",
       "    <tr style=\"text-align: right;\">\n",
       "      <th></th>\n",
       "      <th>時間戳記</th>\n",
       "      <th>電子郵件地址</th>\n",
       "      <th>姓名</th>\n",
       "      <th>學號</th>\n",
       "      <th>GitHub PL Repo. Link</th>\n",
       "    </tr>\n",
       "  </thead>\n",
       "  <tbody>\n",
       "    <tr>\n",
       "      <th>0</th>\n",
       "      <td>2022/9/13 上午 11:28:03</td>\n",
       "      <td>chandrawei2105@gmail.com</td>\n",
       "      <td>翁忠良</td>\n",
       "      <td>40847058S</td>\n",
       "      <td>https://github.com/lloydkt99/WEB</td>\n",
       "    </tr>\n",
       "    <tr>\n",
       "      <th>1</th>\n",
       "      <td>2022/9/13 上午 10:57:38</td>\n",
       "      <td>ydsoon02@gmail.com</td>\n",
       "      <td>孫源智</td>\n",
       "      <td>41013018E</td>\n",
       "      <td>https://github.com/yuancc12/web</td>\n",
       "    </tr>\n",
       "    <tr>\n",
       "      <th>2</th>\n",
       "      <td>2022/9/11 下午 11:44:00</td>\n",
       "      <td>a2568470006@gmail.com</td>\n",
       "      <td>徐嫚謙</td>\n",
       "      <td>41071103H</td>\n",
       "      <td>https://github.com/Manchien/web</td>\n",
       "    </tr>\n",
       "    <tr>\n",
       "      <th>3</th>\n",
       "      <td>2022/9/13 上午 9:25:26</td>\n",
       "      <td>dennislin0926@gmail.com</td>\n",
       "      <td>林志遠</td>\n",
       "      <td>41071104H</td>\n",
       "      <td>https://github.com/dennis910926/Web</td>\n",
       "    </tr>\n",
       "    <tr>\n",
       "      <th>4</th>\n",
       "      <td>2022/9/10 上午 7:20:04</td>\n",
       "      <td>41071106H@gapps.ntnu.edu.tw</td>\n",
       "      <td>張博凱</td>\n",
       "      <td>41071106H</td>\n",
       "      <td>https://github.com/allen20021005/Web</td>\n",
       "    </tr>\n",
       "  </tbody>\n",
       "</table>\n",
       "</div>"
      ],
      "text/plain": [
       "                    時間戳記                       電子郵件地址   姓名         學號  \\\n",
       "0  2022/9/13 上午 11:28:03     chandrawei2105@gmail.com  翁忠良  40847058S   \n",
       "1  2022/9/13 上午 10:57:38           ydsoon02@gmail.com  孫源智  41013018E   \n",
       "2  2022/9/11 下午 11:44:00        a2568470006@gmail.com  徐嫚謙  41071103H   \n",
       "3   2022/9/13 上午 9:25:26      dennislin0926@gmail.com  林志遠  41071104H   \n",
       "4   2022/9/10 上午 7:20:04  41071106H@gapps.ntnu.edu.tw  張博凱  41071106H   \n",
       "\n",
       "                   GitHub PL Repo. Link  \n",
       "0      https://github.com/lloydkt99/WEB  \n",
       "1       https://github.com/yuancc12/web  \n",
       "2       https://github.com/Manchien/web  \n",
       "3   https://github.com/dennis910926/Web  \n",
       "4  https://github.com/allen20021005/Web  "
      ]
     },
     "execution_count": 24,
     "metadata": {},
     "output_type": "execute_result"
    }
   ],
   "source": [
    "finalweb = web.drop_duplicates(subset=['姓名'])\n",
    "finalweb.head()"
   ]
  },
  {
   "cell_type": "code",
   "execution_count": 25,
   "id": "62ae913b",
   "metadata": {},
   "outputs": [
    {
     "data": {
      "text/html": [
       "<div>\n",
       "<style scoped>\n",
       "    .dataframe tbody tr th:only-of-type {\n",
       "        vertical-align: middle;\n",
       "    }\n",
       "\n",
       "    .dataframe tbody tr th {\n",
       "        vertical-align: top;\n",
       "    }\n",
       "\n",
       "    .dataframe thead th {\n",
       "        text-align: right;\n",
       "    }\n",
       "</style>\n",
       "<table border=\"1\" class=\"dataframe\">\n",
       "  <thead>\n",
       "    <tr style=\"text-align: right;\">\n",
       "      <th></th>\n",
       "      <th>時間戳記</th>\n",
       "      <th>電子郵件地址</th>\n",
       "      <th>姓名</th>\n",
       "      <th>學號</th>\n",
       "      <th>GitHub PL Repo. Link</th>\n",
       "    </tr>\n",
       "  </thead>\n",
       "  <tbody>\n",
       "    <tr>\n",
       "      <th>0</th>\n",
       "      <td>2022/9/14 下午 1:40:09</td>\n",
       "      <td>z890657@gmail.com</td>\n",
       "      <td>杜伊凱</td>\n",
       "      <td>40871117H</td>\n",
       "      <td>https://github.com/BonBa2K/PL_Repo</td>\n",
       "    </tr>\n",
       "    <tr>\n",
       "      <th>1</th>\n",
       "      <td>2022/9/10 下午 1:47:27</td>\n",
       "      <td>tzefira13@gmail.com</td>\n",
       "      <td>江安沂</td>\n",
       "      <td>40923117L</td>\n",
       "      <td>https://github.com/major013/PL</td>\n",
       "    </tr>\n",
       "    <tr>\n",
       "      <th>2</th>\n",
       "      <td>2022/9/10 下午 4:31:06</td>\n",
       "      <td>40923213l@gapps.ntnu.edu.tw</td>\n",
       "      <td>田雨禾</td>\n",
       "      <td>40923213L</td>\n",
       "      <td>https://github.com/YU-HE-TIEN/NTNU-programming...</td>\n",
       "    </tr>\n",
       "    <tr>\n",
       "      <th>3</th>\n",
       "      <td>2022/9/15 上午 12:01:07</td>\n",
       "      <td>ericjackintpe@gmail.com</td>\n",
       "      <td>張凱鈞</td>\n",
       "      <td>40971116H</td>\n",
       "      <td>https://github.com/eric40971116H/111-1-NTNU</td>\n",
       "    </tr>\n",
       "    <tr>\n",
       "      <th>4</th>\n",
       "      <td>2022/9/15 下午 12:02:21</td>\n",
       "      <td>hsuanyi0401@gmail.com</td>\n",
       "      <td>錡軒誼</td>\n",
       "      <td>40971117H</td>\n",
       "      <td>https://github.com/chihsuanyi/Python</td>\n",
       "    </tr>\n",
       "  </tbody>\n",
       "</table>\n",
       "</div>"
      ],
      "text/plain": [
       "                    時間戳記                       電子郵件地址   姓名         學號  \\\n",
       "0   2022/9/14 下午 1:40:09            z890657@gmail.com  杜伊凱  40871117H   \n",
       "1   2022/9/10 下午 1:47:27          tzefira13@gmail.com  江安沂  40923117L   \n",
       "2   2022/9/10 下午 4:31:06  40923213l@gapps.ntnu.edu.tw  田雨禾  40923213L   \n",
       "3  2022/9/15 上午 12:01:07      ericjackintpe@gmail.com  張凱鈞  40971116H   \n",
       "4  2022/9/15 下午 12:02:21        hsuanyi0401@gmail.com  錡軒誼  40971117H   \n",
       "\n",
       "                                GitHub PL Repo. Link  \n",
       "0                 https://github.com/BonBa2K/PL_Repo  \n",
       "1                     https://github.com/major013/PL  \n",
       "2  https://github.com/YU-HE-TIEN/NTNU-programming...  \n",
       "3        https://github.com/eric40971116H/111-1-NTNU  \n",
       "4               https://github.com/chihsuanyi/Python  "
      ]
     },
     "execution_count": 25,
     "metadata": {},
     "output_type": "execute_result"
    }
   ],
   "source": [
    "finalpl = pl.drop_duplicates(subset=['姓名'])\n",
    "finalpl.head()"
   ]
  },
  {
   "cell_type": "code",
   "execution_count": 27,
   "id": "3d6604ab",
   "metadata": {},
   "outputs": [
    {
     "name": "stdout",
     "output_type": "stream",
     "text": [
      "all pl 49 final pl 45\n"
     ]
    }
   ],
   "source": [
    "print('all pl', len(pl), 'final pl', len(finalpl))"
   ]
  },
  {
   "cell_type": "code",
   "execution_count": 28,
   "id": "75f48b9d",
   "metadata": {
    "scrolled": true
   },
   "outputs": [
    {
     "name": "stdout",
     "output_type": "stream",
     "text": [
      "all web 33 final web 30\n"
     ]
    }
   ],
   "source": [
    "print('all web', len(web), 'final web', len(finalweb))"
   ]
  },
  {
   "cell_type": "markdown",
   "id": "64641a58",
   "metadata": {},
   "source": [
    "+ 有修蔡老師的課＝連集\n",
    "+ 同時修web&pl＝交集\n",
    "+ 修web沒修pl＝差集1\n",
    "+ 修pl沒修web＝差集2\n",
    "+ 只修pl或只修web＝對稱差集"
   ]
  },
  {
   "cell_type": "code",
   "execution_count": 29,
   "id": "671734da",
   "metadata": {},
   "outputs": [],
   "source": [
    "attendweb = list(finalweb['姓名'])"
   ]
  },
  {
   "cell_type": "code",
   "execution_count": 31,
   "id": "fbae83bc",
   "metadata": {},
   "outputs": [],
   "source": [
    "attendpl = list(finalpl['姓名'])"
   ]
  },
  {
   "cell_type": "code",
   "execution_count": 2,
   "id": "b3a5dc1c",
   "metadata": {},
   "outputs": [
    {
     "ename": "NameError",
     "evalue": "name 'attendweb' is not defined",
     "output_type": "error",
     "traceback": [
      "\u001b[0;31m---------------------------------------------------------------------------\u001b[0m",
      "\u001b[0;31mNameError\u001b[0m                                 Traceback (most recent call last)",
      "Input \u001b[0;32mIn [2]\u001b[0m, in \u001b[0;36m<cell line: 1>\u001b[0;34m()\u001b[0m\n\u001b[0;32m----> 1\u001b[0m \u001b[38;5;28mprint\u001b[39m(\u001b[43mattendweb\u001b[49m)\n",
      "\u001b[0;31mNameError\u001b[0m: name 'attendweb' is not defined"
     ]
    }
   ],
   "source": [
    "print(attendweb)"
   ]
  },
  {
   "cell_type": "code",
   "execution_count": null,
   "id": "67e596fb",
   "metadata": {},
   "outputs": [],
   "source": []
  }
 ],
 "metadata": {
  "kernelspec": {
   "display_name": "Python 3 (ipykernel)",
   "language": "python",
   "name": "python3"
  },
  "language_info": {
   "codemirror_mode": {
    "name": "ipython",
    "version": 3
   },
   "file_extension": ".py",
   "mimetype": "text/x-python",
   "name": "python",
   "nbconvert_exporter": "python",
   "pygments_lexer": "ipython3",
   "version": "3.9.12"
  }
 },
 "nbformat": 4,
 "nbformat_minor": 5
}
