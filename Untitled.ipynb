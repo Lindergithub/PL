{
 "cells": [
  {
   "cell_type": "code",
   "execution_count": 2,
   "id": "e5ffefac",
   "metadata": {},
   "outputs": [
    {
     "name": "stdout",
     "output_type": "stream",
     "text": [
      "債務人建景興業股份有限公司、飛利開發股份有限公司、全潤股份有限公司、藍健晏、藍立全應向債權人連帶清償新臺幣伍佰萬元，及自民國一百零五年十月二十四日起至清償日止，按年息百分之二十計算之懲罰性違約金。\n"
     ]
    }
   ],
   "source": [
    "strl=\"債務人建景興業股份有限公司、飛利開發股份有限公司、全潤股份有限公司、藍健晏、藍立全應向債權人連帶清償新臺幣伍佰萬元，及自民國一百零五年十月二十四日起至清償日止，按年息百分之二十計算之懲罰性違約金。\"\n",
    "print(strl)"
   ]
  },
  {
   "cell_type": "code",
   "execution_count": null,
   "id": "9182c9d3",
   "metadata": {},
   "outputs": [],
   "source": []
  }
 ],
 "metadata": {
  "kernelspec": {
   "display_name": "Python 3 (ipykernel)",
   "language": "python",
   "name": "python3"
  },
  "language_info": {
   "codemirror_mode": {
    "name": "ipython",
    "version": 3
   },
   "file_extension": ".py",
   "mimetype": "text/x-python",
   "name": "python",
   "nbconvert_exporter": "python",
   "pygments_lexer": "ipython3",
   "version": "3.9.12"
  }
 },
 "nbformat": 4,
 "nbformat_minor": 5
}
