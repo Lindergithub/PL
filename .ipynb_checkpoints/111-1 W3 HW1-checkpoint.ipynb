{
 "cells": [
  {
   "cell_type": "code",
   "execution_count": 18,
   "id": "9a28973a",
   "metadata": {},
   "outputs": [],
   "source": [
    "# 找出有修兩堂蔡老師的課的同學\n",
    "import pandas as pd\n",
    "web = pd.read_csv(\"Web Repo.csv\")\n",
    "pl = pd.read_csv(\"Pl Repo.csv\")"
   ]
  },
  {
   "cell_type": "code",
   "execution_count": 20,
   "id": "7b0f3847",
   "metadata": {
    "scrolled": true
   },
   "outputs": [
    {
     "data": {
      "text/html": [
       "<div>\n",
       "<style scoped>\n",
       "    .dataframe tbody tr th:only-of-type {\n",
       "        vertical-align: middle;\n",
       "    }\n",
       "\n",
       "    .dataframe tbody tr th {\n",
       "        vertical-align: top;\n",
       "    }\n",
       "\n",
       "    .dataframe thead th {\n",
       "        text-align: right;\n",
       "    }\n",
       "</style>\n",
       "<table border=\"1\" class=\"dataframe\">\n",
       "  <thead>\n",
       "    <tr style=\"text-align: right;\">\n",
       "      <th></th>\n",
       "      <th>時間戳記</th>\n",
       "      <th>電子郵件地址</th>\n",
       "      <th>姓名</th>\n",
       "      <th>學號</th>\n",
       "      <th>GitHub PL Repo. Link</th>\n",
       "    </tr>\n",
       "  </thead>\n",
       "  <tbody>\n",
       "    <tr>\n",
       "      <th>44</th>\n",
       "      <td>2022/9/9 下午 2:07:00</td>\n",
       "      <td>1234567si2k@gmail.com</td>\n",
       "      <td>邱達儒</td>\n",
       "      <td>無</td>\n",
       "      <td>https://github.com/QiuDaru/PL</td>\n",
       "    </tr>\n",
       "    <tr>\n",
       "      <th>45</th>\n",
       "      <td>2022/9/17 下午 8:52:05</td>\n",
       "      <td>cassietien0224@gmail.com</td>\n",
       "      <td>田雨禾</td>\n",
       "      <td>40923213L</td>\n",
       "      <td>https://github.com/YU-HE-TIEN/PL</td>\n",
       "    </tr>\n",
       "    <tr>\n",
       "      <th>46</th>\n",
       "      <td>2022/9/19 下午 10:05:48</td>\n",
       "      <td>weiweihnug@gmail.com</td>\n",
       "      <td>洪芷葳</td>\n",
       "      <td>41071205H</td>\n",
       "      <td>https://github.com/WeiweiHung/PL</td>\n",
       "    </tr>\n",
       "    <tr>\n",
       "      <th>47</th>\n",
       "      <td>2022/9/22 上午 12:09:47</td>\n",
       "      <td>jenny.lee.91518@gmail.com</td>\n",
       "      <td>李招蓁</td>\n",
       "      <td>40971203H</td>\n",
       "      <td>https://github.com/janliex/PL</td>\n",
       "    </tr>\n",
       "    <tr>\n",
       "      <th>48</th>\n",
       "      <td>2022/9/22 上午 10:11:01</td>\n",
       "      <td>analysis910207@gmail.com</td>\n",
       "      <td>楊宇倫</td>\n",
       "      <td>40971125H</td>\n",
       "      <td>https://github.com/yulun910207/PL.git</td>\n",
       "    </tr>\n",
       "  </tbody>\n",
       "</table>\n",
       "</div>"
      ],
      "text/plain": [
       "                     時間戳記                     電子郵件地址   姓名         學號  \\\n",
       "44    2022/9/9 下午 2:07:00      1234567si2k@gmail.com  邱達儒          無   \n",
       "45   2022/9/17 下午 8:52:05   cassietien0224@gmail.com  田雨禾  40923213L   \n",
       "46  2022/9/19 下午 10:05:48       weiweihnug@gmail.com  洪芷葳  41071205H   \n",
       "47  2022/9/22 上午 12:09:47  jenny.lee.91518@gmail.com  李招蓁  40971203H   \n",
       "48  2022/9/22 上午 10:11:01   analysis910207@gmail.com  楊宇倫  40971125H   \n",
       "\n",
       "                     GitHub PL Repo. Link  \n",
       "44          https://github.com/QiuDaru/PL  \n",
       "45       https://github.com/YU-HE-TIEN/PL  \n",
       "46       https://github.com/WeiweiHung/PL  \n",
       "47          https://github.com/janliex/PL  \n",
       "48  https://github.com/yulun910207/PL.git  "
      ]
     },
     "execution_count": 20,
     "metadata": {},
     "output_type": "execute_result"
    }
   ],
   "source": [
    "# 偷看一下\n",
    "pl.tail()"
   ]
  },
  {
   "cell_type": "code",
   "execution_count": 21,
   "id": "692024b2",
   "metadata": {},
   "outputs": [
    {
     "data": {
      "text/html": [
       "<div>\n",
       "<style scoped>\n",
       "    .dataframe tbody tr th:only-of-type {\n",
       "        vertical-align: middle;\n",
       "    }\n",
       "\n",
       "    .dataframe tbody tr th {\n",
       "        vertical-align: top;\n",
       "    }\n",
       "\n",
       "    .dataframe thead th {\n",
       "        text-align: right;\n",
       "    }\n",
       "</style>\n",
       "<table border=\"1\" class=\"dataframe\">\n",
       "  <thead>\n",
       "    <tr style=\"text-align: right;\">\n",
       "      <th></th>\n",
       "      <th>時間戳記</th>\n",
       "      <th>電子郵件地址</th>\n",
       "      <th>姓名</th>\n",
       "      <th>學號</th>\n",
       "      <th>GitHub PL Repo. Link</th>\n",
       "    </tr>\n",
       "  </thead>\n",
       "  <tbody>\n",
       "    <tr>\n",
       "      <th>28</th>\n",
       "      <td>2022/9/19 上午 11:02:03</td>\n",
       "      <td>patrick.celee@gmai.com</td>\n",
       "      <td>李承恩</td>\n",
       "      <td>41071230H</td>\n",
       "      <td>https://github.com/patty111/web</td>\n",
       "    </tr>\n",
       "    <tr>\n",
       "      <th>29</th>\n",
       "      <td>2022/9/19 下午 7:48:22</td>\n",
       "      <td>41071116h@gapps.ntnu.edu.tw</td>\n",
       "      <td>陳翰駿</td>\n",
       "      <td>41071116H</td>\n",
       "      <td>https://github.com/junnn1219/Web</td>\n",
       "    </tr>\n",
       "    <tr>\n",
       "      <th>30</th>\n",
       "      <td>2022/9/19 下午 9:53:49</td>\n",
       "      <td>weiweihnug@gmail.com</td>\n",
       "      <td>洪芷葳</td>\n",
       "      <td>41071205H</td>\n",
       "      <td>https://github.com/WeiweiHung/Web</td>\n",
       "    </tr>\n",
       "    <tr>\n",
       "      <th>31</th>\n",
       "      <td>2022/9/19 下午 11:23:02</td>\n",
       "      <td>41071207h@gapps.ntnu.edu.tw</td>\n",
       "      <td>葉芷伃</td>\n",
       "      <td>4107207H</td>\n",
       "      <td>https://github.com/Una-Yeh/Web</td>\n",
       "    </tr>\n",
       "    <tr>\n",
       "      <th>32</th>\n",
       "      <td>2022/9/20 上午 1:31:31</td>\n",
       "      <td>41071229h@gapps.ntnu.edu.tw</td>\n",
       "      <td>魏士凱</td>\n",
       "      <td>41071229H</td>\n",
       "      <td>https://github.com/ShihKaiWei/Web</td>\n",
       "    </tr>\n",
       "  </tbody>\n",
       "</table>\n",
       "</div>"
      ],
      "text/plain": [
       "                     時間戳記                       電子郵件地址   姓名         學號  \\\n",
       "28  2022/9/19 上午 11:02:03       patrick.celee@gmai.com  李承恩  41071230H   \n",
       "29   2022/9/19 下午 7:48:22  41071116h@gapps.ntnu.edu.tw  陳翰駿  41071116H   \n",
       "30   2022/9/19 下午 9:53:49         weiweihnug@gmail.com  洪芷葳  41071205H   \n",
       "31  2022/9/19 下午 11:23:02  41071207h@gapps.ntnu.edu.tw  葉芷伃   4107207H   \n",
       "32   2022/9/20 上午 1:31:31  41071229h@gapps.ntnu.edu.tw  魏士凱  41071229H   \n",
       "\n",
       "                 GitHub PL Repo. Link  \n",
       "28    https://github.com/patty111/web  \n",
       "29   https://github.com/junnn1219/Web  \n",
       "30  https://github.com/WeiweiHung/Web  \n",
       "31     https://github.com/Una-Yeh/Web  \n",
       "32  https://github.com/ShihKaiWei/Web  "
      ]
     },
     "execution_count": 21,
     "metadata": {},
     "output_type": "execute_result"
    }
   ],
   "source": [
    "# 偷看一下\n",
    "web.tail()"
   ]
  },
  {
   "cell_type": "code",
   "execution_count": 14,
   "id": "c73e699b",
   "metadata": {},
   "outputs": [],
   "source": [
    "# 刪除重複的資料\n",
    "finalweb = web.drop_duplicates(subset=['姓名'])"
   ]
  },
  {
   "cell_type": "code",
   "execution_count": 13,
   "id": "62ae913b",
   "metadata": {},
   "outputs": [],
   "source": [
    "# 刪除重複的資料\n",
    "finalpl = pl.drop_duplicates(subset=['姓名'])"
   ]
  },
  {
   "cell_type": "code",
   "execution_count": 16,
   "id": "3d6604ab",
   "metadata": {},
   "outputs": [
    {
     "name": "stdout",
     "output_type": "stream",
     "text": [
      "all pl 49 , final pl 45\n"
     ]
    }
   ],
   "source": [
    "print('all pl', len(pl),\",\", 'final pl', len(finalpl))"
   ]
  },
  {
   "cell_type": "markdown",
   "id": "77d46561",
   "metadata": {},
   "source": [
    "修pl的有45個同學（到現在都沒填表單的就算了，反正不需要）"
   ]
  },
  {
   "cell_type": "code",
   "execution_count": 17,
   "id": "75f48b9d",
   "metadata": {
    "scrolled": false
   },
   "outputs": [
    {
     "name": "stdout",
     "output_type": "stream",
     "text": [
      "all web 33 , final web 30\n"
     ]
    }
   ],
   "source": [
    "print('all web', len(web),\",\", 'final web', len(finalweb))"
   ]
  },
  {
   "cell_type": "markdown",
   "id": "5edd4a90",
   "metadata": {},
   "source": [
    "修web的有30個同學（到現在都沒填表單的就算了，反正不需要）"
   ]
  },
  {
   "cell_type": "code",
   "execution_count": 29,
   "id": "671734da",
   "metadata": {},
   "outputs": [
    {
     "name": "stdout",
     "output_type": "stream",
     "text": [
      "['翁忠良', '孫源智', '徐嫚謙', '林志遠', '張博凱', '翁健哲', '林鈺茹', '陳思岑', '施宏儒', '張乃云', '丁煦芊', '林奕嫻', '李嘉明', '李承曄', '黃思齊', '洪芷葳', '葉芷伃', '邱致瑋', '潘允蕙', '黄相華', '胡亞莉', '張宸瑜', '盧梓銓', '洪麗娜', '杜洺鋒', '李承恩', '李宸逸', '吳宜庭', '陳翰駿', '魏士凱']\n"
     ]
    }
   ],
   "source": [
    "# 重打一次，他好像讀不到前面的\n",
    "import pandas as pd\n",
    "web = pd.read_csv(\"Web Repo.csv\")\n",
    "finalweb = web.drop_duplicates(subset=['姓名'])\n",
    "attendweb = list(finalweb['姓名'])\n",
    "print(attendweb)"
   ]
  },
  {
   "cell_type": "code",
   "execution_count": 30,
   "id": "fbae83bc",
   "metadata": {},
   "outputs": [
    {
     "name": "stdout",
     "output_type": "stream",
     "text": [
      "['杜伊凱', '江安沂', '田雨禾', '張凱鈞', '錡軒誼', '廖于任', '楊宇倫', '許力文', '李招蓁', '張淳涵', '戴子棋', '王依仁', '徐敏皓', '徐嫚謙', '林志遠', '柯幸孜', '張博凱', '翁健哲', '陳亮竹', '林鈺茹', '陳思岑', '施宏儒', '李苡嘉', '黃麟堯', '林逸豪', '簡珮軒', '張乃云', '丁煦芊', '吳亞蓉', '蔡宗廷', '陳淑鈃', '林奕嫻', '李嘉明', '李承曄', '黃思齊', '洪芷葳', '邱致瑋', '盧紫妍', '杜洺鋒', '魏士凱', '廖誌晨', '吳沛龍', '吳詩怡', '蔡昱宏', '邱達儒']\n"
     ]
    }
   ],
   "source": [
    "# 重打一次，他好像讀不到前面的\n",
    "import pandas as pd\n",
    "pl = pd.read_csv(\"Pl Repo.csv\")\n",
    "finalpl = pl.drop_duplicates(subset=['姓名'])\n",
    "attendpl = list(finalpl['姓名'])\n",
    "print(attendpl)"
   ]
  },
  {
   "cell_type": "code",
   "execution_count": 31,
   "id": "a62e1c01",
   "metadata": {},
   "outputs": [],
   "source": [
    "# 把list變set\n",
    "setpl={'杜伊凱', '江安沂', '田雨禾', '張凱鈞', '錡軒誼', '廖于任', '楊宇倫', '許力文', '李招蓁', '張淳涵', '戴子棋', '王依仁', '徐敏皓', '徐嫚謙', '林志遠', '柯幸孜', '張博凱', '翁健哲', '陳亮竹', '林鈺茹', '陳思岑', '施宏儒', '李苡嘉', '黃麟堯', '林逸豪', '簡珮軒', '張乃云', '丁煦芊', '吳亞蓉', '蔡宗廷', '陳淑鈃', '林奕嫻', '李嘉明', '李承曄', '黃思齊', '洪芷葳', '邱致瑋', '盧紫妍', '杜洺鋒', '魏士凱', '廖誌晨', '吳沛龍', '吳詩怡', '蔡昱宏', '邱達儒'}\n",
    "setweb={'翁忠良', '孫源智', '徐嫚謙', '林志遠', '張博凱', '翁健哲', '林鈺茹', '陳思岑', '施宏儒', '張乃云', '丁煦芊', '林奕嫻', '李嘉明', '李承曄', '黃思齊', '洪芷葳', '葉芷伃', '邱致瑋', '潘允蕙', '黄相華', '胡亞莉', '張宸瑜', '盧梓銓', '洪麗娜', '杜洺鋒', '李承恩', '李宸逸', '吳宜庭', '陳翰駿', '魏士凱'}"
   ]
  },
  {
   "cell_type": "markdown",
   "id": "64641a58",
   "metadata": {},
   "source": [
    "+ 有修蔡老師的課＝連集\n",
    "+ 同時修web&pl＝交集\n",
    "+ 修web沒修pl＝差集1\n",
    "+ 修pl沒修web＝差集2\n",
    "+ 只修pl或只修web＝對稱差集"
   ]
  },
  {
   "cell_type": "code",
   "execution_count": 32,
   "id": "d4f5b05e",
   "metadata": {},
   "outputs": [
    {
     "name": "stdout",
     "output_type": "stream",
     "text": [
      "有修蔡老師的課: {'張博凱', '黃麟堯', '李承曄', '陳思岑', '吳詩怡', '柯幸孜', '洪芷葳', '戴子棋', '李宸逸', '邱達儒', '王依仁', '盧梓銓', '黃思齊', '孫源智', '許力文', '廖于任', '李嘉明', '葉芷伃', '杜洺鋒', '胡亞莉', '盧紫妍', '魏士凱', '徐敏皓', '邱致瑋', '林志遠', '張淳涵', '蔡昱宏', '潘允蕙', '林奕嫻', '張凱鈞', '李承恩', '翁健哲', '張宸瑜', '翁忠良', '簡珮軒', '蔡宗廷', '丁煦芊', '李招蓁', '林逸豪', '陳翰駿', '陳亮竹', '廖誌晨', '黄相華', '吳亞蓉', '吳沛龍', '張乃云', '田雨禾', '徐嫚謙', '林鈺茹', '杜伊凱', '李苡嘉', '洪麗娜', '楊宇倫', '吳宜庭', '錡軒誼', '施宏儒', '江安沂', '陳淑鈃'}\n",
      "同時修web&pl: {'林奕嫻', '張乃云', '魏士凱', '張博凱', '丁煦芊', '李嘉明', '徐嫚謙', '翁健哲', '林鈺茹', '邱致瑋', '林志遠', '李承曄', '陳思岑', '杜洺鋒', '施宏儒', '洪芷葳', '黃思齊'}\n",
      "只修web: {'孫源智', '洪麗娜', '胡亞莉', '李宸逸', '吳宜庭', '葉芷伃', '李承恩', '陳翰駿', '張宸瑜', '黄相華', '翁忠良', '盧梓銓', '潘允蕙'}\n",
      "只修pl: {'張凱鈞', '黃麟堯', '吳詩怡', '柯幸孜', '簡珮軒', '戴子棋', '李招蓁', '蔡宗廷', '邱達儒', '林逸豪', '陳亮竹', '王依仁', '廖誌晨', '吳亞蓉', '許力文', '廖于任', '吳沛龍', '田雨禾', '杜伊凱', '李苡嘉', '楊宇倫', '盧紫妍', '蔡昱宏', '徐敏皓', '錡軒誼', '張淳涵', '江安沂', '陳淑鈃'}\n",
      "只修web+只修pl: {'張凱鈞', '李承恩', '黃麟堯', '張宸瑜', '吳詩怡', '柯幸孜', '翁忠良', '簡珮軒', '戴子棋', '李招蓁', '蔡宗廷', '邱達儒', '李宸逸', '林逸豪', '陳翰駿', '陳亮竹', '王依仁', '廖誌晨', '黄相華', '盧梓銓', '吳亞蓉', '許力文', '孫源智', '廖于任', '吳沛龍', '田雨禾', '葉芷伃', '杜伊凱', '李苡嘉', '楊宇倫', '洪麗娜', '胡亞莉', '盧紫妍', '吳宜庭', '徐敏皓', '錡軒誼', '江安沂', '張淳涵', '蔡昱宏', '陳淑鈃', '潘允蕙'}\n"
     ]
    }
   ],
   "source": [
    "print('有修蔡老師的課:',(setweb|setpl)) #連集\n",
    "print('同時修web&pl:',(setweb & setpl)) #交集\n",
    "print('只修web:',(setweb-setpl))  #差集1\n",
    "print('只修pl:',(setpl-setweb)) #差集2\n",
    "print('只修web+只修pl:',(setweb^setpl)) #對稱差集"
   ]
  }
 ],
 "metadata": {
  "kernelspec": {
   "display_name": "Python 3 (ipykernel)",
   "language": "python",
   "name": "python3"
  },
  "language_info": {
   "codemirror_mode": {
    "name": "ipython",
    "version": 3
   },
   "file_extension": ".py",
   "mimetype": "text/x-python",
   "name": "python",
   "nbconvert_exporter": "python",
   "pygments_lexer": "ipython3",
   "version": "3.9.12"
  }
 },
 "nbformat": 4,
 "nbformat_minor": 5
}
