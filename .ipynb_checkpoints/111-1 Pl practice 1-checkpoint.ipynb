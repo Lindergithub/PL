{
 "cells": [
  {
   "cell_type": "code",
   "execution_count": 2,
   "id": "ba90bb41",
   "metadata": {},
   "outputs": [
    {
     "name": "stdout",
     "output_type": "stream",
     "text": [
      "債務人建景興業股份有限公司、飛利開發股份有限公司、全潤股份有限公司、藍健晏、藍立全應向債權人連帶清償新臺幣伍佰萬元，及自民國一百零五年十月二十四日起至清償日止，按年息百分之二十計算之懲罰性違約金。\n"
     ]
    }
   ],
   "source": [
    "strl=\"債務人建景興業股份有限公司、飛利開發股份有限公司、全潤股份有限公司、藍健晏、藍立全應向債權人連帶清償新臺幣伍佰萬元，及自民國一百零五年十月二十四日起至清償日止，按年息百分之二十計算之懲罰性違約金。\"\n",
    "print(strl)"
   ]
  },
  {
   "cell_type": "code",
   "execution_count": 8,
   "id": "baff5e60",
   "metadata": {},
   "outputs": [
    {
     "name": "stdout",
     "output_type": "stream",
     "text": [
      "原告賠償= 7706 被告賠償= 17981\n"
     ]
    }
   ],
   "source": [
    "money=25688\n",
    "原告賠償=int(money*0.3)\n",
    "被告賠償=int(money*0.7)\n",
    "\n",
    "print('原告賠償=',原告賠償,'被告賠償=',被告賠償)\n"
   ]
  },
  {
   "cell_type": "code",
   "execution_count": 71,
   "id": "63c060d3",
   "metadata": {},
   "outputs": [
    {
     "name": "stdout",
     "output_type": "stream",
     "text": [
      "總共償還 12608\n"
     ]
    }
   ],
   "source": [
    "rate=0.0005\n",
    "money=11805\n",
    "month1=150\n",
    "month2=300\n",
    "利息=money*(0.0005+1)**59\n",
    "違約金=month1+month2\n",
    "print(\"總共償還\",int(利息+違約金))"
   ]
  },
  {
   "cell_type": "code",
   "execution_count": 91,
   "id": "5d605f9c",
   "metadata": {},
   "outputs": [
    {
     "name": "stdout",
     "output_type": "stream",
     "text": [
      "請輸入案件：thjhgf\n",
      "請輸入有效訊息\n"
     ]
    }
   ],
   "source": [
    "event=input(\"請輸入案件：\")\n",
    "\n",
    "if event ==\"被告闖紅燈\" :\n",
    "    print(\"被告賠100%\")\n",
    "elif event ==\"原告闖紅燈\" :\n",
    "    print(\"原告多被告少\")\n",
    "elif event ==\"被告原告皆闖紅燈\" :\n",
    "    print(\"原告50%被告50%\")\n",
    "                \n",
    "if event not in string_list:            \n",
    "    print(\"請輸入有效訊息\")\n",
    "    "
   ]
  },
  {
   "cell_type": "code",
   "execution_count": null,
   "id": "e9338aa6",
   "metadata": {},
   "outputs": [],
   "source": []
  }
 ],
 "metadata": {
  "kernelspec": {
   "display_name": "Python 3 (ipykernel)",
   "language": "python",
   "name": "python3"
  },
  "language_info": {
   "codemirror_mode": {
    "name": "ipython",
    "version": 3
   },
   "file_extension": ".py",
   "mimetype": "text/x-python",
   "name": "python",
   "nbconvert_exporter": "python",
   "pygments_lexer": "ipython3",
   "version": "3.9.12"
  }
 },
 "nbformat": 4,
 "nbformat_minor": 5
}
