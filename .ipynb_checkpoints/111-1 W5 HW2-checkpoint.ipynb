{
 "cells": [
  {
   "cell_type": "code",
   "execution_count": 136,
   "id": "bdb33bc2",
   "metadata": {},
   "outputs": [
    {
     "name": "stdout",
     "output_type": "stream",
     "text": [
      "Type: <class 'dict'>\n"
     ]
    }
   ],
   "source": [
    "import json\n",
    " \n",
    "\n",
    "with open('pl_hw2-1.json') as json_file:\n",
    "    data = json.load(json_file)\n",
    " \n",
    "    print(\"Type:\", type(data))"
   ]
  },
  {
   "cell_type": "code",
   "execution_count": 137,
   "id": "cec9b691",
   "metadata": {},
   "outputs": [
    {
     "data": {
      "text/plain": [
       "dict_items([('game', '新生盃'), ('date', '2021/12/06'), ('place', 'ntnu'), ('all', '7人'), ('members', [{'name': 'A', 'age': 19, 'play': 'libero', 'dive': 6, 'ace': 0, 'scorer': 1, 'Setter dump': 1}, {'name': 'B', 'age': 19, 'play': 'setter', 'ace': 5, 'spike point': 2, 'Setter dump': 4}, {'name': 'C', 'age': 19, 'play': 'spiker', 'ace': 4, 'block point': 4, 'spike point': 2, 'tip point': 0}, {'name': 'D', 'age': 19, 'play': 'spiker', 'ace': 2, 'block point': 4, 'spike point': 3, 'tip point': 3}, {'name': 'E', 'age': 19, 'play': 'block', 'ace': 4, 'block point': 4, 'spike point': 3, 'tip point': 3}, {'name': 'F', 'age': 19, 'play': 'block', 'ace': 2, 'block point': 3, 'spike point': 2, 'tip point': 0}, {'name': 'G', 'age': 19, 'play': 'spiker', 'ace': 1, 'block point': 0, 'spike point': 0, 'tip point': 0}])])"
      ]
     },
     "execution_count": 137,
     "metadata": {},
     "output_type": "execute_result"
    }
   ],
   "source": [
    "data.items()\n"
   ]
  },
  {
   "cell_type": "code",
   "execution_count": 138,
   "id": "79a6c5bf",
   "metadata": {},
   "outputs": [
    {
     "data": {
      "text/plain": [
       "dict_keys(['game', 'date', 'place', 'all', 'members'])"
      ]
     },
     "execution_count": 138,
     "metadata": {},
     "output_type": "execute_result"
    }
   ],
   "source": [
    "data.keys()\n"
   ]
  },
  {
   "cell_type": "code",
   "execution_count": 139,
   "id": "c93156c1",
   "metadata": {},
   "outputs": [
    {
     "data": {
      "text/plain": [
       "[{'name': 'A',\n",
       "  'age': 19,\n",
       "  'play': 'libero',\n",
       "  'dive': 6,\n",
       "  'ace': 0,\n",
       "  'scorer': 1,\n",
       "  'Setter dump': 1},\n",
       " {'name': 'B',\n",
       "  'age': 19,\n",
       "  'play': 'setter',\n",
       "  'ace': 5,\n",
       "  'spike point': 2,\n",
       "  'Setter dump': 4},\n",
       " {'name': 'C',\n",
       "  'age': 19,\n",
       "  'play': 'spiker',\n",
       "  'ace': 4,\n",
       "  'block point': 4,\n",
       "  'spike point': 2,\n",
       "  'tip point': 0},\n",
       " {'name': 'D',\n",
       "  'age': 19,\n",
       "  'play': 'spiker',\n",
       "  'ace': 2,\n",
       "  'block point': 4,\n",
       "  'spike point': 3,\n",
       "  'tip point': 3},\n",
       " {'name': 'E',\n",
       "  'age': 19,\n",
       "  'play': 'block',\n",
       "  'ace': 4,\n",
       "  'block point': 4,\n",
       "  'spike point': 3,\n",
       "  'tip point': 3},\n",
       " {'name': 'F',\n",
       "  'age': 19,\n",
       "  'play': 'block',\n",
       "  'ace': 2,\n",
       "  'block point': 3,\n",
       "  'spike point': 2,\n",
       "  'tip point': 0},\n",
       " {'name': 'G',\n",
       "  'age': 19,\n",
       "  'play': 'spiker',\n",
       "  'ace': 1,\n",
       "  'block point': 0,\n",
       "  'spike point': 0,\n",
       "  'tip point': 0}]"
      ]
     },
     "execution_count": 139,
     "metadata": {},
     "output_type": "execute_result"
    }
   ],
   "source": [
    "temp = data.get('members')\n",
    "temp"
   ]
  },
  {
   "cell_type": "code",
   "execution_count": 140,
   "id": "7516fd62",
   "metadata": {},
   "outputs": [
    {
     "name": "stdout",
     "output_type": "stream",
     "text": [
      "E\n",
      "F\n"
     ]
    }
   ],
   "source": [
    "#看誰是攔中\n",
    "p = \"block\"\n",
    "for i in temp:\n",
    "    if p == i.get('play'):\n",
    "        print(i.get('name'))"
   ]
  },
  {
   "cell_type": "code",
   "execution_count": 141,
   "id": "704b022b",
   "metadata": {},
   "outputs": [
    {
     "name": "stdout",
     "output_type": "stream",
     "text": [
      "B\n"
     ]
    }
   ],
   "source": [
    "#看誰是二傳\n",
    "p = \"setter\"\n",
    "for i in temp:\n",
    "    if p == i.get('play'):\n",
    "        print(i.get('name'))"
   ]
  },
  {
   "cell_type": "code",
   "execution_count": 142,
   "id": "14e710d7",
   "metadata": {},
   "outputs": [
    {
     "name": "stdout",
     "output_type": "stream",
     "text": [
      "[0, 5, 4, 2, 4, 2, 1]\n"
     ]
    }
   ],
   "source": [
    "#排序誰ace最多\n",
    "#把ace從資料抓出來\n",
    "allace = []\n",
    "for i in temp:\n",
    "    allace.append(i.get('ace'))\n",
    "print(allace)"
   ]
  },
  {
   "cell_type": "code",
   "execution_count": 143,
   "id": "5ce4f7fd",
   "metadata": {},
   "outputs": [],
   "source": [
    "#把list變enumerate，之後排序才知道誰是誰\n",
    "allace_enumerate = enumerate(allace, start = 1)"
   ]
  },
  {
   "cell_type": "code",
   "execution_count": 144,
   "id": "c3d57d03",
   "metadata": {},
   "outputs": [
    {
     "data": {
      "text/plain": [
       "[(2, 5), (3, 4), (5, 4), (4, 2), (6, 2), (7, 1), (1, 0)]"
      ]
     },
     "execution_count": 144,
     "metadata": {},
     "output_type": "execute_result"
    }
   ],
   "source": [
    "#排序，結果為[(第二位,五分),(第三位,四分),......]\n",
    "allace_enumerate_sorted = sorted(allace_enumerate, key = lambda s: s[1], reverse = True)\n",
    "allace_enumerate_sorted"
   ]
  },
  {
   "cell_type": "code",
   "execution_count": 145,
   "id": "3e766331",
   "metadata": {},
   "outputs": [
    {
     "data": {
      "text/plain": [
       "2"
      ]
     },
     "execution_count": 145,
     "metadata": {},
     "output_type": "execute_result"
    }
   ],
   "source": [
    "allace_enumerate_sorted[0][0] #最多是第二位"
   ]
  },
  {
   "cell_type": "code",
   "execution_count": 148,
   "id": "2f3e4155",
   "metadata": {},
   "outputs": [
    {
     "data": {
      "text/plain": [
       "5"
      ]
     },
     "execution_count": 148,
     "metadata": {},
     "output_type": "execute_result"
    }
   ],
   "source": [
    "allace_enumerate_sorted[0][1] #最多得5分"
   ]
  },
  {
   "cell_type": "code",
   "execution_count": 146,
   "id": "fecab191",
   "metadata": {},
   "outputs": [
    {
     "data": {
      "text/plain": [
       "3"
      ]
     },
     "execution_count": 146,
     "metadata": {},
     "output_type": "execute_result"
    }
   ],
   "source": [
    "allace_enumerate_sorted[1][0] #第二多是第三位"
   ]
  },
  {
   "cell_type": "code",
   "execution_count": 149,
   "id": "3b1b486c",
   "metadata": {},
   "outputs": [
    {
     "data": {
      "text/plain": [
       "4"
      ]
     },
     "execution_count": 149,
     "metadata": {},
     "output_type": "execute_result"
    }
   ],
   "source": [
    "allace_enumerate_sorted[1][1] #第二多得4分"
   ]
  },
  {
   "cell_type": "code",
   "execution_count": 150,
   "id": "372ca68c",
   "metadata": {},
   "outputs": [
    {
     "name": "stdout",
     "output_type": "stream",
     "text": [
      "第 1 名 是 B ，發球得 5 分\n",
      "第 2 名 是 C ，發球得 4 分\n",
      "第 3 名 是 E ，發球得 4 分\n",
      "第 4 名 是 D ，發球得 2 分\n",
      "第 5 名 是 F ，發球得 2 分\n",
      "第 6 名 是 G ，發球得 1 分\n",
      "第 7 名 是 A ，發球得 0 分\n"
     ]
    }
   ],
   "source": [
    "#看看誰是誰\n",
    "j = 1\n",
    "for i in temp:\n",
    "    n = allace_enumerate_sorted[j-1][0]\n",
    "    print(\"第\", j,\"名\", \"是\", temp[n-1].get('name'), \"，發球得\", temp[n-1].get('ace'), \"分\")\n",
    "    j = j + 1"
   ]
  }
 ],
 "metadata": {
  "kernelspec": {
   "display_name": "Python 3 (ipykernel)",
   "language": "python",
   "name": "python3"
  },
  "language_info": {
   "codemirror_mode": {
    "name": "ipython",
    "version": 3
   },
   "file_extension": ".py",
   "mimetype": "text/x-python",
   "name": "python",
   "nbconvert_exporter": "python",
   "pygments_lexer": "ipython3",
   "version": "3.9.12"
  }
 },
 "nbformat": 4,
 "nbformat_minor": 5
}
