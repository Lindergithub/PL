{
 "cells": [
  {
   "cell_type": "markdown",
   "id": "6bad3259",
   "metadata": {},
   "source": [
    "#把此json格式的資料存入dict\n",
    "\n"
   ]
  },
  {
   "cell_type": "code",
   "execution_count": 48,
   "id": "c39ede55",
   "metadata": {},
   "outputs": [
    {
     "name": "stdout",
     "output_type": "stream",
     "text": [
      "Type: <class 'dict'>\n"
     ]
    }
   ],
   "source": [
    "import json\n",
    " \n",
    "\n",
    "with open('pl_hw2.json') as json_file:\n",
    "    data = json.load(json_file)\n",
    " \n",
    "    print(\"Type:\", type(data))\n",
    "\n"
   ]
  },
  {
   "cell_type": "code",
   "execution_count": 50,
   "id": "826123b0",
   "metadata": {},
   "outputs": [
    {
     "data": {
      "text/plain": [
       "[{'隊服': [{'主場': [{'白衣': {'XS': 4,\n",
       "       'S': 2,\n",
       "       'M': 3,\n",
       "       'L': 6,\n",
       "       '2L': 1,\n",
       "       'XL': 5,\n",
       "       '2XL': 2}},\n",
       "     {'白褲': {'XS': 3, 'S': 2, 'M': 3, 'L': 0, '2L': 0, 'XL': 5, '2XL': 0}}]},\n",
       "   {'客場': [{'紫衣': {'XS': 5,\n",
       "       'S': 3,\n",
       "       'M': 6,\n",
       "       'L': 4,\n",
       "       '2L': 4,\n",
       "       'XL': 2,\n",
       "       '2XL': 2}},\n",
       "     {'紫褲': {'XS': 0, 'S': 3, 'M': 5, 'L': 0, '2L': 4, 'XL': 1, '2XL': 2}}]}]},\n",
       " {'熱身衣': [{'長袖': [{'藍色': {'XS': 2,\n",
       "       'S': 4,\n",
       "       'M': 6,\n",
       "       'L': 5,\n",
       "       '2L': 0,\n",
       "       'XL': 3,\n",
       "       '2XL': 0}},\n",
       "     {'灰色': {'XS': 2, 'S': 3, 'M': 4, 'L': 5, '2L': 0, 'XL': 6, '2XL': 0}}]},\n",
       "   {'短袖': [{'藍色': {'XS': 5,\n",
       "       'S': 6,\n",
       "       'M': 4,\n",
       "       'L': 3,\n",
       "       '2L': 0,\n",
       "       'XL': 2,\n",
       "       '2XL': 0}},\n",
       "     {'灰色': {'XS': 0, 'S': 5, 'M': 3, 'L': 4, '2L': 0, 'XL': 0, '2XL': 0}}]}]},\n",
       " {'外套': [{'XS': 1, 'S': 0, 'M': 4, 'L': 5, '2L': 0, 'XL': 3, '2XL': 0}]}]"
      ]
     },
     "execution_count": 50,
     "metadata": {},
     "output_type": "execute_result"
    }
   ],
   "source": [
    "temp1 = d.get('球衣性質')\n",
    "temp1"
   ]
  },
  {
   "cell_type": "code",
   "execution_count": 44,
   "id": "85bfc20a",
   "metadata": {},
   "outputs": [
    {
     "ename": "IndentationError",
     "evalue": "unindent does not match any outer indentation level (<tokenize>, line 33)",
     "output_type": "error",
     "traceback": [
      "\u001b[0;36m  File \u001b[0;32m<tokenize>:33\u001b[0;36m\u001b[0m\n\u001b[0;31m    {'外套': [{'XS': 1, 'S': 0, 'M': 4, 'L': 5, '2L': 0, 'XL': 3, '2XL': 0}]}\u001b[0m\n\u001b[0m    ^\u001b[0m\n\u001b[0;31mIndentationError\u001b[0m\u001b[0;31m:\u001b[0m unindent does not match any outer indentation level\n"
     ]
    }
   ],
   "source": [
    "d2={'隊服': [{'主場': [{'白衣': {'XS': 4,\n",
    "       'S': 2,\n",
    "       'M': 3,\n",
    "       'L': 6,\n",
    "       '2L': 1,\n",
    "       'XL': 5,\n",
    "       '2XL': 2}},\n",
    "     {'白褲': {'XS': 3, 'S': 2, 'M': 3, 'L': 0, '2L': 0, 'XL': 5, '2XL': 0}}]},\n",
    "   {'客場': [{'紫衣': {'XS': 5,\n",
    "       'S': 3,\n",
    "       'M': 6,\n",
    "       'L': 4,\n",
    "       '2L': 4,\n",
    "       'XL': 2,\n",
    "       '2XL': 2}},\n",
    "     {'紫褲': {'XS': 0, 'S': 3, 'M': 5, 'L': 0, '2L': 4, 'XL': 1, '2XL': 2}}]}]},\n",
    "     {'熱身衣': [{'長袖': [{'藍色': {'XS': 2,\n",
    "       'S': 4,\n",
    "       'M': 6,\n",
    "       'L': 5,\n",
    "       '2L': 0,\n",
    "       'XL': 3,\n",
    "       '2XL': 0}},\n",
    "     {'灰色': {'XS': 2, 'S': 3, 'M': 4, 'L': 5, '2L': 0, 'XL': 6, '2XL': 0}}]},\n",
    "   {'短袖': [{'藍色': {'XS': 5,\n",
    "       'S': 6,\n",
    "'M': 4,\n",
    "'L': 3,\n",
    "'2L': 0,\n",
    "'XL': 2,\n",
    "'2XL': 0}},\n",
    "{'灰色': {'XS': 0, 'S': 5, 'M': 3, 'L': 4, '2L': 0, 'XL': 0, '2XL': 0}}]}]},\n",
    "{'外套': [{'XS': 1, 'S': 0, 'M': 4, 'L': 5, '2L': 0, 'XL': 3, '2XL': 0}]}"
   ]
  },
  {
   "cell_type": "markdown",
   "id": "7e6cd803",
   "metadata": {},
   "source": [
    "\n",
    "for i in temp:\n",
    "    if ask == i.get('name'):\n",
    "        print(ask, '是', i.get('age'), '歲')    "
   ]
  },
  {
   "cell_type": "code",
   "execution_count": null,
   "id": "ccc1db2e",
   "metadata": {},
   "outputs": [],
   "source": []
  }
 ],
 "metadata": {
  "kernelspec": {
   "display_name": "Python 3 (ipykernel)",
   "language": "python",
   "name": "python3"
  },
  "language_info": {
   "codemirror_mode": {
    "name": "ipython",
    "version": 3
   },
   "file_extension": ".py",
   "mimetype": "text/x-python",
   "name": "python",
   "nbconvert_exporter": "python",
   "pygments_lexer": "ipython3",
   "version": "3.9.12"
  }
 },
 "nbformat": 4,
 "nbformat_minor": 5
}
