{
 "cells": [
  {
   "cell_type": "markdown",
   "id": "b1d932e2",
   "metadata": {},
   "source": [
    "已知有阿程、阿力、阿瑤三人,分別分別年齡為34、29、58,他們分別觸犯多條道路交\n",
    "通管理處罰條例。\n",
    "甲:第16條裝高音量喇叭或其他生噪音器物,被罰了1600元、\n",
    "第17條汽不依限期参加定期檢驗或臨时檢驗,被罰1500元、\n",
    "第62條汽車駕駛人駕駛汽車肇事,被罰了2500元、\n",
    "第21條未領有駕駛照駕駛小型車或機車被罰10500元\n",
    "乙:第12條汽車使用吊銷、註銷之牌照,被罰5000元\n",
    "丙:第82條未經許可在道路擺設攤位,被罰2000元、\n",
    "第56條在禁止臨時停車處所停車,被罰1000元"
   ]
  },
  {
   "cell_type": "code",
   "execution_count": 6,
   "id": "0d1aa702",
   "metadata": {},
   "outputs": [],
   "source": [
    "d = {'a,34':[('第16條裝高音量喇叭或其他生噪音器物','1600'),('第17條汽不依限期参加定期檢驗或臨时檢驗','1500'),('第62條汽車駕駛人駕駛汽車肇事','2500'),('第21條未領有駕駛照駕駛小型車或機車','10500')],\n",
    "     'b,29':['第12條汽車使用吊銷、註銷之牌照','5000'],\n",
    "     'c,58':[('第82條未經許可在道路擺設攤位','2000'),('第56條在禁止臨時停車處所停車','1000')]}"
   ]
  },
  {
   "cell_type": "code",
   "execution_count": null,
   "id": "74e63b8e",
   "metadata": {},
   "outputs": [],
   "source": []
  }
 ],
 "metadata": {
  "kernelspec": {
   "display_name": "Python 3 (ipykernel)",
   "language": "python",
   "name": "python3"
  },
  "language_info": {
   "codemirror_mode": {
    "name": "ipython",
    "version": 3
   },
   "file_extension": ".py",
   "mimetype": "text/x-python",
   "name": "python",
   "nbconvert_exporter": "python",
   "pygments_lexer": "ipython3",
   "version": "3.9.12"
  }
 },
 "nbformat": 4,
 "nbformat_minor": 5
}
